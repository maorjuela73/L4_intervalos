{
 "cells": [
  {
   "cell_type": "code",
   "execution_count": 2,
   "metadata": {},
   "outputs": [
    {
     "data": {
      "text/plain": [
       "               _                           \n",
       "platform       x86_64-w64-mingw32          \n",
       "arch           x86_64                      \n",
       "os             mingw32                     \n",
       "system         x86_64, mingw32             \n",
       "status                                     \n",
       "major          3                           \n",
       "minor          4.3                         \n",
       "year           2017                        \n",
       "month          11                          \n",
       "day            30                          \n",
       "svn rev        73796                       \n",
       "language       R                           \n",
       "version.string R version 3.4.3 (2017-11-30)\n",
       "nickname       Kite-Eating Tree            "
      ]
     },
     "metadata": {},
     "output_type": "display_data"
    }
   ],
   "source": [
    "version"
   ]
  },
  {
   "cell_type": "markdown",
   "metadata": {},
   "source": [
    "# Estimación por intervalos de confianza\n",
    "\n",
    "## Media\n",
    "\n",
    "Se encuentra que la concentración promedio de zinc que se obtiene en una muestra de mediciones en 36 sitios diferentes de un río es de 2.6 gramos por mililitro. Calcule los intervalos de confianza del 95% y 99% para la concentración media de zinc en el río.\n",
    "Suponga que la desviación estándar de la población es de 0.3 gramos por mililitro."
   ]
  },
  {
   "cell_type": "code",
   "execution_count": 17,
   "metadata": {},
   "outputs": [],
   "source": [
    "n <- 36\n",
    "prom <- 2.6\n",
    "desv <- 0.3\n",
    "conf <- 0.95"
   ]
  },
  {
   "cell_type": "code",
   "execution_count": 18,
   "metadata": {},
   "outputs": [
    {
     "data": {
      "text/html": [
       "0.05"
      ],
      "text/latex": [
       "0.05"
      ],
      "text/markdown": [
       "0.05"
      ],
      "text/plain": [
       "[1] 0.05"
      ]
     },
     "metadata": {},
     "output_type": "display_data"
    }
   ],
   "source": [
    "alpha <- 1-conf\n",
    "alpha"
   ]
  },
  {
   "cell_type": "code",
   "execution_count": 19,
   "metadata": {},
   "outputs": [
    {
     "data": {
      "text/html": [
       "-1.95996398454005"
      ],
      "text/latex": [
       "-1.95996398454005"
      ],
      "text/markdown": [
       "-1.95996398454005"
      ],
      "text/plain": [
       "[1] -1.959964"
      ]
     },
     "metadata": {},
     "output_type": "display_data"
    }
   ],
   "source": [
    "qnorm(alpha/2)"
   ]
  },
  {
   "cell_type": "code",
   "execution_count": 14,
   "metadata": {},
   "outputs": [
    {
     "data": {
      "text/html": [
       "2.47120853482255"
      ],
      "text/latex": [
       "2.47120853482255"
      ],
      "text/markdown": [
       "2.47120853482255"
      ],
      "text/plain": [
       "[1] 2.471209"
      ]
     },
     "metadata": {},
     "output_type": "display_data"
    }
   ],
   "source": [
    "lim_inferior <- prom + qnorm(alpha/2)*desv/sqrt(n)\n",
    "lim_inferior"
   ]
  },
  {
   "cell_type": "code",
   "execution_count": 15,
   "metadata": {},
   "outputs": [
    {
     "data": {
      "text/html": [
       "2.72879146517745"
      ],
      "text/latex": [
       "2.72879146517745"
      ],
      "text/markdown": [
       "2.72879146517745"
      ],
      "text/plain": [
       "[1] 2.728791"
      ]
     },
     "metadata": {},
     "output_type": "display_data"
    }
   ],
   "source": [
    "lim_superior <- prom - qnorm(alpha/2)*desv/sqrt(n)\n",
    "lim_superior"
   ]
  },
  {
   "cell_type": "markdown",
   "metadata": {},
   "source": [
    "### ¿Qué pasa si queremos conocer el tamaño de muestra?\n",
    "\n",
    "Con frecuencia queremos saber qué tan grande necesita ser una muestra para poder estar seguros de que el error al estimar $\\mu$ será menor que una cantidad específica $e$.\n",
    "\n",
    "$$P(\\overline{Y}-e\\leq\\mu\\leq\\overline{Y}+e)=1-\\alpha$$\n",
    "\n",
    "Lo anterior se calcula igualando $e$ al márgen de error $z_{\\alpha/2}\\frac{\\sigma}{\\sqrt{n}}$\n",
    "\n",
    "¿Qué tan grande debe ser la muestra del ejemplo anterior si queremos tener 95% de confianza en que nuestra estimación de $\\mu$ diferirá por menos de 0.05?"
   ]
  },
  {
   "cell_type": "code",
   "execution_count": 20,
   "metadata": {},
   "outputs": [
    {
     "data": {
      "text/html": [
       "138.292517544988"
      ],
      "text/latex": [
       "138.292517544988"
      ],
      "text/markdown": [
       "138.292517544988"
      ],
      "text/plain": [
       "[1] 138.2925"
      ]
     },
     "metadata": {},
     "output_type": "display_data"
    }
   ],
   "source": [
    "nn <- (qnorm(alpha/2)*desv/0.05)^2\n",
    "nn"
   ]
  },
  {
   "cell_type": "markdown",
   "metadata": {},
   "source": [
    "## Proporción\n",
    "\n",
    "En una muestra aleatoria de n = 500 familias que tienen televisores en la ciudad de Hamilton, Canadá, se encuentra que x = 340 están suscritas a HBO. Calcule un intervalo de confianza del 95% para la proporción real de familias que tienen televisores en esta ciudad y están suscritas a HBO."
   ]
  },
  {
   "cell_type": "code",
   "execution_count": 45,
   "metadata": {},
   "outputs": [],
   "source": [
    "n <- 2090\n",
    "x <- 340\n",
    "conf <- 0.95"
   ]
  },
  {
   "cell_type": "code",
   "execution_count": 46,
   "metadata": {},
   "outputs": [
    {
     "data": {
      "text/html": [
       "0.05"
      ],
      "text/latex": [
       "0.05"
      ],
      "text/markdown": [
       "0.05"
      ],
      "text/plain": [
       "[1] 0.05"
      ]
     },
     "metadata": {},
     "output_type": "display_data"
    }
   ],
   "source": [
    "alpha <- 1-conf\n",
    "alpha"
   ]
  },
  {
   "cell_type": "code",
   "execution_count": 47,
   "metadata": {},
   "outputs": [
    {
     "data": {
      "text/html": [
       "-1.95996398454005"
      ],
      "text/latex": [
       "-1.95996398454005"
      ],
      "text/markdown": [
       "-1.95996398454005"
      ],
      "text/plain": [
       "[1] -1.959964"
      ]
     },
     "metadata": {},
     "output_type": "display_data"
    }
   ],
   "source": [
    "qnorm(alpha/2)"
   ]
  },
  {
   "cell_type": "code",
   "execution_count": 48,
   "metadata": {},
   "outputs": [
    {
     "data": {
      "text/html": [
       "0.162679425837321"
      ],
      "text/latex": [
       "0.162679425837321"
      ],
      "text/markdown": [
       "0.162679425837321"
      ],
      "text/plain": [
       "[1] 0.1626794"
      ]
     },
     "metadata": {},
     "output_type": "display_data"
    }
   ],
   "source": [
    "p <- x/n\n",
    "p"
   ]
  },
  {
   "cell_type": "code",
   "execution_count": 49,
   "metadata": {},
   "outputs": [
    {
     "data": {
      "text/html": [
       "0.146856487168577"
      ],
      "text/latex": [
       "0.146856487168577"
      ],
      "text/markdown": [
       "0.146856487168577"
      ],
      "text/plain": [
       "[1] 0.1468565"
      ]
     },
     "metadata": {},
     "output_type": "display_data"
    }
   ],
   "source": [
    "lim_inferior <- p + qnorm(alpha/2)*sqrt(p*(1-p)/n)\n",
    "lim_inferior"
   ]
  },
  {
   "cell_type": "code",
   "execution_count": 50,
   "metadata": {},
   "outputs": [
    {
     "data": {
      "text/html": [
       "0.178502364506065"
      ],
      "text/latex": [
       "0.178502364506065"
      ],
      "text/markdown": [
       "0.178502364506065"
      ],
      "text/plain": [
       "[1] 0.1785024"
      ]
     },
     "metadata": {},
     "output_type": "display_data"
    }
   ],
   "source": [
    "lim_superior <- p - qnorm(alpha/2)*sqrt(p*(1-p)/n)\n",
    "lim_superior"
   ]
  },
  {
   "cell_type": "code",
   "execution_count": 51,
   "metadata": {},
   "outputs": [
    {
     "data": {
      "text/html": [
       "0.031645877337488"
      ],
      "text/latex": [
       "0.031645877337488"
      ],
      "text/markdown": [
       "0.031645877337488"
      ],
      "text/plain": [
       "[1] 0.03164588"
      ]
     },
     "metadata": {},
     "output_type": "display_data"
    }
   ],
   "source": [
    "lim_superior-lim_inferior"
   ]
  },
  {
   "cell_type": "markdown",
   "metadata": {},
   "source": [
    "**Actividad:** ¿Qué tan grande debe ser una muestra en el ejemplo anterior si queremos tener un 95% de confianza en que la estimación de p esté dentro de 0.02 del valor verdadero?"
   ]
  },
  {
   "cell_type": "code",
   "execution_count": 44,
   "metadata": {},
   "outputs": [
    {
     "data": {
      "text/html": [
       "2089.7535984576"
      ],
      "text/latex": [
       "2089.7535984576"
      ],
      "text/markdown": [
       "2089.7535984576"
      ],
      "text/plain": [
       "[1] 2089.754"
      ]
     },
     "metadata": {},
     "output_type": "display_data"
    }
   ],
   "source": [
    "nn <- p*(1-p)*(qnorm(alpha/2))^2/0.02^2\n",
    "nn"
   ]
  },
  {
   "cell_type": "markdown",
   "metadata": {},
   "source": [
    "## Diferencia de medias\n",
    "\n",
    "Se llevó a cabo un experimento donde se compararon dos tipos de motores, el $A$ y el $B$. Se midió el rendimiento de combustible en millas por galón. Se realizaron 50 experimentos con el motor tipo $A$ y 75 con el motor tipo $B$. La gasolina utilizada y las demás condiciones se mantuvieron constantes. El rendimiento promedio de gasolina para el motor $A$ fue de 36 millas por galón y el promedio para el motor $B$ fue de 42 millas por galón. Calcule un intervalo de confianza del 96% sobre $\\mu_B – \\mu_A$, donde $\\mu_A$ y $\\mu_B$ corresponden a la media de la población del rendimiento de millas por galón para los motores $A$ y $B$, respectivamente. Suponga que las desviaciones estándar de la población son 6 y 8 para los motores $A$ y $B$, respectivamente."
   ]
  },
  {
   "cell_type": "code",
   "execution_count": 55,
   "metadata": {},
   "outputs": [],
   "source": [
    "nA <- 50\n",
    "nB <- 75\n",
    "promA <- 36\n",
    "promB <- 42\n",
    "desvA <- 6\n",
    "desvB <- 8\n",
    "conf <- 0.96"
   ]
  },
  {
   "cell_type": "code",
   "execution_count": 56,
   "metadata": {},
   "outputs": [
    {
     "data": {
      "text/html": [
       "0.04"
      ],
      "text/latex": [
       "0.04"
      ],
      "text/markdown": [
       "0.04"
      ],
      "text/plain": [
       "[1] 0.04"
      ]
     },
     "metadata": {},
     "output_type": "display_data"
    }
   ],
   "source": [
    "alpha <- 1-conf\n",
    "alpha"
   ]
  },
  {
   "cell_type": "markdown",
   "metadata": {},
   "source": [
    "### Estimación puntual"
   ]
  },
  {
   "cell_type": "code",
   "execution_count": 57,
   "metadata": {},
   "outputs": [
    {
     "data": {
      "text/html": [
       "6"
      ],
      "text/latex": [
       "6"
      ],
      "text/markdown": [
       "6"
      ],
      "text/plain": [
       "[1] 6"
      ]
     },
     "metadata": {},
     "output_type": "display_data"
    }
   ],
   "source": [
    "promB-promA"
   ]
  },
  {
   "cell_type": "code",
   "execution_count": 58,
   "metadata": {},
   "outputs": [
    {
     "data": {
      "text/html": [
       "-2.05374891063182"
      ],
      "text/latex": [
       "-2.05374891063182"
      ],
      "text/markdown": [
       "-2.05374891063182"
      ],
      "text/plain": [
       "[1] -2.053749"
      ]
     },
     "metadata": {},
     "output_type": "display_data"
    }
   ],
   "source": [
    "qnorm(alpha/2)"
   ]
  },
  {
   "cell_type": "code",
   "execution_count": 59,
   "metadata": {},
   "outputs": [
    {
     "data": {
      "text/html": [
       "3.42392965578778"
      ],
      "text/latex": [
       "3.42392965578778"
      ],
      "text/markdown": [
       "3.42392965578778"
      ],
      "text/plain": [
       "[1] 3.42393"
      ]
     },
     "metadata": {},
     "output_type": "display_data"
    }
   ],
   "source": [
    "lim_inferior <- (promB-promA) + qnorm(alpha/2)*sqrt(desvB^2/nB+desvA^2/nA)\n",
    "lim_inferior"
   ]
  },
  {
   "cell_type": "code",
   "execution_count": 60,
   "metadata": {},
   "outputs": [
    {
     "data": {
      "text/html": [
       "8.57607034421222"
      ],
      "text/latex": [
       "8.57607034421222"
      ],
      "text/markdown": [
       "8.57607034421222"
      ],
      "text/plain": [
       "[1] 8.57607"
      ]
     },
     "metadata": {},
     "output_type": "display_data"
    }
   ],
   "source": [
    "lim_superior <- (promB-promA) - qnorm(alpha/2)*sqrt(desvB^2/nB+desvA^2/nA)\n",
    "lim_superior"
   ]
  },
  {
   "cell_type": "markdown",
   "metadata": {},
   "source": [
    "El hecho de que ambos límites de confianza sean positivos indica que, en promedio, el rendimiento del motor B es mayor al rendimiento del motor A"
   ]
  },
  {
   "cell_type": "markdown",
   "metadata": {},
   "source": [
    "## Diferencia de proporciones\n",
    "\n",
    "Se considera hacer un cierto cambio en el proceso de fabricación de partes componentes. Para determinar si el cambio en el proceso da como resultado una mejora, se toman muestras de partes fabricadas con el proceso nuevo y con el actual. Si se encuentra que 75 de 1500 artículos manufacturados con el proceso actual están defectuosos y 80 de 2000 manufacturados con el proceso nuevo también lo están, calcule un intervalo de confianza del 90% para la diferencia verdadera en la proporción de partes defectuosas entre el proceso actual y el nuevo."
   ]
  },
  {
   "cell_type": "code",
   "execution_count": 9,
   "metadata": {},
   "outputs": [],
   "source": [
    "n1 <- 1500\n",
    "x1 <- 75\n",
    "n2 <- 2000\n",
    "x2 <- 80\n",
    "conf <- 0.9"
   ]
  },
  {
   "cell_type": "code",
   "execution_count": 10,
   "metadata": {},
   "outputs": [
    {
     "data": {
      "text/html": [
       "0.1"
      ],
      "text/latex": [
       "0.1"
      ],
      "text/markdown": [
       "0.1"
      ],
      "text/plain": [
       "[1] 0.1"
      ]
     },
     "metadata": {},
     "output_type": "display_data"
    }
   ],
   "source": [
    "alpha <- 1-conf\n",
    "alpha"
   ]
  },
  {
   "cell_type": "code",
   "execution_count": 29,
   "metadata": {},
   "outputs": [
    {
     "data": {
      "text/html": [
       "0.05"
      ],
      "text/latex": [
       "0.05"
      ],
      "text/markdown": [
       "0.05"
      ],
      "text/plain": [
       "[1] 0.05"
      ]
     },
     "metadata": {},
     "output_type": "display_data"
    }
   ],
   "source": [
    "p1 <- x1/n1\n",
    "p1"
   ]
  },
  {
   "cell_type": "code",
   "execution_count": 30,
   "metadata": {},
   "outputs": [
    {
     "data": {
      "text/html": [
       "0.04"
      ],
      "text/latex": [
       "0.04"
      ],
      "text/markdown": [
       "0.04"
      ],
      "text/plain": [
       "[1] 0.04"
      ]
     },
     "metadata": {},
     "output_type": "display_data"
    }
   ],
   "source": [
    "p2 <- x2/n2\n",
    "p2"
   ]
  },
  {
   "cell_type": "code",
   "execution_count": 31,
   "metadata": {},
   "outputs": [
    {
     "data": {
      "text/html": [
       "0.01"
      ],
      "text/latex": [
       "0.01"
      ],
      "text/markdown": [
       "0.01"
      ],
      "text/plain": [
       "[1] 0.01"
      ]
     },
     "metadata": {},
     "output_type": "display_data"
    }
   ],
   "source": [
    "p1-p2"
   ]
  },
  {
   "cell_type": "code",
   "execution_count": 32,
   "metadata": {},
   "outputs": [
    {
     "data": {
      "text/html": [
       "-1.64485362695147"
      ],
      "text/latex": [
       "-1.64485362695147"
      ],
      "text/markdown": [
       "-1.64485362695147"
      ],
      "text/plain": [
       "[1] -1.644854"
      ]
     },
     "metadata": {},
     "output_type": "display_data"
    }
   ],
   "source": [
    "qnorm(alpha/2)"
   ]
  },
  {
   "cell_type": "code",
   "execution_count": 33,
   "metadata": {},
   "outputs": [
    {
     "data": {
      "text/html": [
       "-0.00173123936469005"
      ],
      "text/latex": [
       "-0.00173123936469005"
      ],
      "text/markdown": [
       "-0.00173123936469005"
      ],
      "text/plain": [
       "[1] -0.001731239"
      ]
     },
     "metadata": {},
     "output_type": "display_data"
    }
   ],
   "source": [
    "lim_inferior <- (p1-p2) + qnorm(alpha/2)*sqrt(p1*(1-p1)/n1+p2*(1-p2)/n2)\n",
    "lim_inferior"
   ]
  },
  {
   "cell_type": "code",
   "execution_count": 34,
   "metadata": {},
   "outputs": [
    {
     "data": {
      "text/html": [
       "0.0217312393646901"
      ],
      "text/latex": [
       "0.0217312393646901"
      ],
      "text/markdown": [
       "0.0217312393646901"
      ],
      "text/plain": [
       "[1] 0.02173124"
      ]
     },
     "metadata": {},
     "output_type": "display_data"
    }
   ],
   "source": [
    "lim_superior <- (p1-p2) - qnorm(alpha/2)*sqrt(p1*(1-p1)/n1 + p2*(1-p2)/n2)\n",
    "lim_superior"
   ]
  },
  {
   "cell_type": "code",
   "execution_count": 35,
   "metadata": {},
   "outputs": [
    {
     "data": {
      "text/html": [
       "-0.01173123936469"
      ],
      "text/latex": [
       "-0.01173123936469"
      ],
      "text/markdown": [
       "-0.01173123936469"
      ],
      "text/plain": [
       "[1] -0.01173124"
      ]
     },
     "metadata": {},
     "output_type": "display_data"
    }
   ],
   "source": [
    "qnorm(alpha/2)*sqrt(p1*(1-p1)/n1+p2*(1-p2)/n2)"
   ]
  }
 ],
 "metadata": {
  "kernelspec": {
   "display_name": "R",
   "language": "R",
   "name": "ir"
  },
  "language_info": {
   "codemirror_mode": "r",
   "file_extension": ".r",
   "mimetype": "text/x-r-source",
   "name": "R",
   "pygments_lexer": "r",
   "version": "3.4.3"
  }
 },
 "nbformat": 4,
 "nbformat_minor": 2
}
